{
  "nbformat": 4,
  "nbformat_minor": 0,
  "metadata": {
    "colab": {
      "provenance": [],
      "include_colab_link": true
    },
    "kernelspec": {
      "name": "python3",
      "display_name": "Python 3"
    },
    "language_info": {
      "name": "python"
    },
    "gpuClass": "standard"
  },
  "cells": [
    {
      "cell_type": "markdown",
      "metadata": {
        "id": "view-in-github",
        "colab_type": "text"
      },
      "source": [
        "<a href=\"https://colab.research.google.com/github/JMacnar/ring_analysis/blob/master/sixmembered_rings.ipynb\" target=\"_parent\"><img src=\"https://colab.research.google.com/assets/colab-badge.svg\" alt=\"Open In Colab\"/></a>"
      ]
    },
    {
      "cell_type": "code",
      "source": [
        "#@title Install dependencies\n",
        "%%bash -s \n",
        "if [ ! -f Py3Dmol_READY ]; then\n",
        "  pip install py3Dmol\n",
        "  touch Py3Dmol_READY\n",
        "fi\n",
        "\n",
        "if [ ! -f GIT_READY ]; then\n",
        "  # install dependencies\n",
        "  git clone https://github.com/JMacnar/ring_analysis.git\n",
        "  cp ring_analysis/7ol5.pdb .\n",
        "  touch GIT_READY\n",
        "fi\n",
        "# setup conda\n",
        "if [ ! -f CONDA_READY ]; then\n",
        "  wget https://repo.anaconda.com/miniconda/Miniconda3-py37_4.12.0-Linux-x86_64.sh\n",
        "  chmod +x Miniconda3-py37_4.12.0-Linux-x86_64.sh\n",
        "  bash ./Miniconda3-py37_4.12.0-Linux-x86_64.sh -b -f -p /usr/local/ > /dev/null\n",
        "  conda install -y -q -c conda-forge py3dmol numpy > /dev/null\n",
        "  touch CONDA_READY\n",
        "fi\n"
      ],
      "metadata": {
        "id": "KrpAP2h3OfOJ",
        "cellView": "form"
      },
      "execution_count": null,
      "outputs": []
    },
    {
      "cell_type": "code",
      "source": [
        "#@title Upload PDB file and provide a ligand's three-letter PDB code\n",
        "\n",
        "from google.colab import files\n",
        "try:\n",
        "  uploaded = files.upload()\n",
        "  pdb_name = next(iter(uploaded))\n",
        "except:\n",
        "   pdb_name = \"7ol5.pdb\"\n",
        "ligand_code = \"EPE\" #@param {type:\"string\"}\n",
        "#@markdown The distance around a ligand used to visualize the structure of the ligand and its surroundings also can be provided\n",
        "distance = 5 #@param {type:\"integer\"}\n"
      ],
      "metadata": {
        "id": "wrq-j5o-ZGxm",
        "cellView": "form"
      },
      "execution_count": null,
      "outputs": []
    },
    {
      "cell_type": "code",
      "source": [
        "#@title Run ring analysis\n",
        "!python ring_analysis/sixmembered_ring.py {pdb_name} {ligand_code} -d {distance}"
      ],
      "metadata": {
        "id": "w5ytbd4Sj4GG",
        "cellView": "form"
      },
      "execution_count": null,
      "outputs": []
    },
    {
      "cell_type": "code",
      "source": [
        "#@title Display 3D structure {run: \"auto\"}\n",
        "import glob\n",
        "import py3Dmol\n",
        "color = \"rainbow\" #@param [\"B-factor\", \"rainbow\"]\n",
        "show_sidechains = False #@param {type:\"boolean\"}\n",
        "show_mainchains = False #@param {type:\"boolean\"}\n",
        "\n",
        "pdb_file = glob.glob(ligand_code+'-*-?-*.pdb')\n",
        "\n",
        "def show_pdb(show_sidechains=False, show_mainchains=False, color=\"rainbow\"):\n",
        "  view = py3Dmol.view(js='https://3dmol.org/build/3Dmol.js',)\n",
        "  view.addModel(open(pdb_file[0],'r').read(),'pdb')\n",
        "\n",
        "  if color == \"rainbow\":\n",
        "    view.setStyle({'cartoon': {'color':'spectrum'}})\n",
        "  elif color == \"B-factor\":\n",
        "    view.setStyle({'cartoon': {'colorscheme':{'prop':'b','gradient':'sinebow','min':0,'max':70}}})\n",
        "  if show_sidechains:\n",
        "    BB = ['C','O','N']\n",
        "    view.addStyle({'and':[{'resn':[\"GLY\",\"PRO\"],'invert':True},{'atom':BB,'invert':True}]},\n",
        "                        {'stick':{'colorscheme':f\"WhiteCarbon\",'radius':0.3}})\n",
        "    view.addStyle({'and':[{'resn':\"GLY\"},{'atom':'CA'}]},\n",
        "                        {'sphere':{'colorscheme':f\"WhiteCarbon\",'radius':0.3}})\n",
        "    view.addStyle({'and':[{'resn':\"PRO\"},{'atom':['C','O'],'invert':True}]},\n",
        "                        {'stick':{'colorscheme':f\"WhiteCarbon\",'radius':0.3}})  \n",
        "  if show_mainchains:\n",
        "    BB = ['C','O','N','CA']\n",
        "    view.addStyle({'atom':BB},{'stick':{'colorscheme':f\"WhiteCarbon\",'radius':0.3}})\n",
        "\n",
        "  view.zoomTo()\n",
        "  return view\n",
        "\n",
        "\n",
        "show_pdb(show_sidechains, show_mainchains, color).show()"
      ],
      "metadata": {
        "id": "dw7X-vMtm74p",
        "cellView": "form",
        "outputId": "d08fccbd-5bab-4230-af32-e38a1c69bfa9",
        "colab": {
          "base_uri": "https://localhost:8080/",
          "height": 497
        }
      },
      "execution_count": 17,
      "outputs": [
        {
          "output_type": "display_data",
          "data": {
            "application/3dmoljs_load.v0": "<div id=\"3dmolviewer_16753425504850626\"  style=\"position: relative; width: 640px; height: 480px\">\n        <p id=\"3dmolwarning_16753425504850626\" style=\"background-color:#ffcccc;color:black\">You appear to be running in JupyterLab (or JavaScript failed to load for some other reason).  You need to install the 3dmol extension: <br>\n        <tt>jupyter labextension install jupyterlab_3dmol</tt></p>\n        </div>\n<script>\n\nvar loadScriptAsync = function(uri){\n  return new Promise((resolve, reject) => {\n    //this is to ignore the existence of requirejs amd\n    var savedexports, savedmodule;\n    if (typeof exports !== 'undefined') savedexports = exports;\n    else exports = {}\n    if (typeof module !== 'undefined') savedmodule = module;\n    else module = {}\n\n    var tag = document.createElement('script');\n    tag.src = uri;\n    tag.async = true;\n    tag.onload = () => {\n        exports = savedexports;\n        module = savedmodule;\n        resolve();\n    };\n  var firstScriptTag = document.getElementsByTagName('script')[0];\n  firstScriptTag.parentNode.insertBefore(tag, firstScriptTag);\n});\n};\n\nif(typeof $3Dmolpromise === 'undefined') {\n$3Dmolpromise = null;\n  $3Dmolpromise = loadScriptAsync('https://3dmol.org/build/3Dmol.js');\n}\n\nvar viewer_16753425504850626 = null;\nvar warn = document.getElementById(\"3dmolwarning_16753425504850626\");\nif(warn) {\n    warn.parentNode.removeChild(warn);\n}\n$3Dmolpromise.then(function() {\nviewer_16753425504850626 = $3Dmol.createViewer(document.getElementById(\"3dmolviewer_16753425504850626\"),{backgroundColor:\"white\"});\nviewer_16753425504850626.zoomTo();\n\tviewer_16753425504850626.addModel(\"ATOM    536  N   GLU A  35       3.509 -23.445  13.991  1.00  9.30           N  \\nATOM    537  CA  GLU A  35       4.165 -22.634  12.974  1.00  9.85           C  \\nATOM    538  C   GLU A  35       4.820 -21.397  13.585  1.00 10.26           C  \\nATOM    539  O   GLU A  35       5.938 -21.036  13.205  1.00 11.20           O  \\nATOM    540  CB  GLU A  35       3.158 -22.223  11.898  1.00  9.92           C  \\nATOM    541  CG  GLU A  35       2.716 -23.379  11.001  1.00 10.69           C  \\nATOM    542  CD  GLU A  35       3.829 -23.873  10.047  1.00 11.63           C  \\nATOM    543  OE1 GLU A  35       4.919 -23.249  10.013  1.00 13.70           O  \\nATOM    544  OE2 GLU A  35       3.587 -24.878   9.337  1.00 12.43           O  \\nATOM    703  N   ASN A  46      14.141 -19.659   4.819  1.00 11.88           N  \\nATOM    704  CA  ASN A  46      14.180 -20.997   4.263  1.00 13.31           C  \\nATOM    705  C   ASN A  46      15.418 -21.200   3.403  1.00 15.00           C  \\nATOM    706  O   ASN A  46      16.015 -20.248   2.901  1.00 15.99           O  \\nATOM    707  CB  ASN A  46      12.931 -21.205   3.418  1.00 13.20           C  \\nATOM    708  CG  ASN A  46      11.663 -20.958   4.216  1.00 13.39           C  \\nATOM    709  OD1 ASN A  46      11.527 -21.459   5.326  1.00 14.63           O  \\nATOM    710  ND2 ASN A  46      10.747 -20.167   3.672  1.00 13.98           N  \\nATOM    717  N   THR A  47      15.780 -22.477   3.230  1.00 18.07           N  \\nATOM    718  CA  THR A  47      16.984 -22.824   2.481  1.00 20.22           C  \\nATOM    719  C   THR A  47      16.939 -22.286   1.057  1.00 20.51           C  \\nATOM    720  O   THR A  47      17.987 -21.918   0.508  1.00 21.82           O  \\nATOM    721  CB  THR A  47      17.168 -24.344   2.498  1.00 22.43           C  \\nATOM    722  OG1 THR A  47      17.190 -24.808   3.858  1.00 24.47           O  \\nATOM    723  CG2 THR A  47      18.444 -24.745   1.799  1.00 23.91           C  \\nATOM    731  N   ASP A  48      15.750 -22.225   0.445  1.00 20.33           N  \\nATOM    732  CA  ASP A  48      15.627 -21.755  -0.930  1.00 21.06           C  \\nATOM    733  C   ASP A  48      15.743 -20.240  -1.075  1.00 20.49           C  \\nATOM    734  O   ASP A  48      15.702 -19.744  -2.207  1.00 22.97           O  \\nATOM    735  CB  ASP A  48      14.342 -22.280  -1.591  1.00 22.14           C  \\nATOM    736  CG  ASP A  48      13.068 -21.716  -0.974  1.00 21.27           C  \\nATOM    737  OD1 ASP A  48      13.139 -20.822  -0.096  1.00 18.87           O  \\nATOM    738  OD2 ASP A  48      11.983 -22.179  -1.391  1.00 23.68           O  \\nATOM    775  N   ASP A  52       9.305 -17.374   5.585  1.00  8.84           N  \\nATOM    776  CA  ASP A  52       7.939 -17.581   6.055  1.00  9.20           C  \\nATOM    777  C   ASP A  52       7.588 -16.484   7.061  1.00  9.15           C  \\nATOM    778  O   ASP A  52       8.396 -16.161   7.945  1.00  9.73           O  \\nATOM    779  CB  ASP A  52       7.810 -18.933   6.772  1.00  9.96           C  \\nATOM    780  CG  ASP A  52       7.813 -20.151   5.840  1.00 10.40           C  \\nATOM    781  OD1 ASP A  52       7.841 -20.011   4.607  1.00 11.22           O  \\nATOM    782  OD2 ASP A  52       7.739 -21.286   6.384  1.00 11.64           O  \\nATOM    854  N   GLN A  57       2.920 -18.468   9.009  1.00 10.49           N  \\nATOM    855  CA  GLN A  57       4.166 -18.799   8.311  1.00  9.73           C  \\nATOM    856  C   GLN A  57       3.957 -18.943   6.803  1.00 10.20           C  \\nATOM    857  O   GLN A  57       4.302 -19.948   6.177  1.00 10.73           O  \\nATOM    858  CB  GLN A  57       4.840 -20.016   8.934  1.00 10.07           C  \\nATOM    859  CG  GLN A  57       5.360 -19.740  10.325  1.00 10.21           C  \\nATOM    860  CD  GLN A  57       6.541 -18.790  10.311  1.00  9.91           C  \\nATOM    861  OE1 GLN A  57       7.671 -19.204  10.041  1.00 10.74           O  \\nATOM    862  NE2 GLN A  57       6.296 -17.510  10.566  1.00 10.17           N  \\nATOM    890  N   ASN A  59       4.643 -18.099   2.933  0.67 10.52           N  \\nATOM    892  CA  ASN A  59       5.922 -18.141   2.223  0.67 10.86           C  \\nATOM    894  C   ASN A  59       6.024 -17.092   1.112  0.67 10.56           C  \\nATOM    896  O   ASN A  59       5.095 -16.908   0.315  0.67 11.39           O  \\nATOM    898  CB  ASN A  59       6.094 -19.552   1.638  0.67 10.94           C  \\nATOM    900  CG  ASN A  59       7.454 -19.770   1.050  0.67 11.45           C  \\nATOM    902  OD1 ASN A  59       7.636 -19.671  -0.159  0.67 13.28           O  \\nATOM    904  ND2 ASN A  59       8.430 -20.038   1.899  0.67 12.35           N  \\nATOM   1621  N   ALA A 107       0.078 -27.906   3.088  1.00 10.43           N  \\nATOM   1622  CA  ALA A 107       0.996 -26.805   2.815  1.00 11.88           C  \\nATOM   1623  C   ALA A 107       1.707 -26.317   4.072  1.00 10.44           C  \\nATOM   1624  O   ALA A 107       2.797 -25.734   3.980  1.00 12.20           O  \\nATOM   1625  CB  ALA A 107       0.224 -25.649   2.178  1.00 14.24           C  \\nATOM   1631  N   TRP A 108       1.099 -26.501   5.239  1.00  9.62           N  \\nATOM   1632  CA  TRP A 108       1.709 -26.138   6.514  1.00  9.07           C  \\nATOM   1633  C   TRP A 108       2.434 -27.368   7.047  1.00  9.20           C  \\nATOM   1634  O   TRP A 108       1.804 -28.318   7.526  1.00  9.27           O  \\nATOM   1635  CB  TRP A 108       0.656 -25.633   7.499  1.00  9.74           C  \\nATOM   1636  CG  TRP A 108       0.167 -24.256   7.165  1.00  9.38           C  \\nATOM   1637  CD1 TRP A 108       0.757 -23.089   7.538  1.00 10.32           C  \\nATOM   1638  CD2 TRP A 108      -0.970 -23.885   6.367  1.00  9.79           C  \\nATOM   1639  NE1 TRP A 108       0.064 -22.018   7.034  1.00 10.90           N  \\nATOM   1640  CE2 TRP A 108      -0.995 -22.479   6.302  1.00 10.14           C  \\nATOM   1641  CE3 TRP A 108      -1.959 -24.603   5.699  1.00 10.74           C  \\nATOM   1642  CZ2 TRP A 108      -1.978 -21.782   5.607  1.00 10.24           C  \\nATOM   1643  CZ3 TRP A 108      -2.927 -23.915   5.012  1.00 10.91           C  \\nATOM   1644  CH2 TRP A 108      -2.939 -22.519   4.970  1.00 10.40           C  \\nATOM   1655  N   VAL A 109       3.760 -27.354   6.955  1.00  9.24           N  \\nATOM   1656  CA  VAL A 109       4.556 -28.510   7.346  1.00 10.01           C  \\nATOM   1657  C   VAL A 109       4.361 -28.838   8.816  1.00  9.33           C  \\nATOM   1658  O   VAL A 109       4.302 -30.014   9.188  1.00 10.26           O  \\nATOM   1659  CB  VAL A 109       6.035 -28.277   6.990  1.00 12.12           C  \\nATOM   1660  CG1 VAL A 109       6.915 -29.394   7.520  1.00 14.62           C  \\nATOM   1661  CG2 VAL A 109       6.177 -28.123   5.477  1.00 14.32           C  \\nATOM   1671  N   ALA A 110       4.273 -27.823   9.677  1.00  9.72           N  \\nATOM   1672  CA  ALA A 110       4.088 -28.123  11.091  1.00 10.71           C  \\nATOM   1673  C   ALA A 110       2.720 -28.743  11.334  1.00 10.35           C  \\nATOM   1674  O   ALA A 110       2.567 -29.600  12.209  1.00 10.93           O  \\nATOM   1675  CB  ALA A 110       4.286 -26.875  11.943  1.00 12.29           C  \\nHETATM 1991  C1  IPA A 201       1.759 -21.874   4.408  0.85 16.58           C  \\nHETATM 1992  C2  IPA A 201       2.920 -21.983   3.427  0.85 15.79           C  \\nHETATM 1993  C3  IPA A 201       2.420 -22.012   1.987  0.85 16.11           C  \\nHETATM 1994  O2  IPA A 201       3.805 -20.872   3.605  0.85 11.25           O  \\nHETATM 2003  N1  EPE A 202       9.573 -24.494   4.227  1.00 17.78           N  \\nHETATM 2004  C2  EPE A 202       8.976 -23.362   3.540  1.00 17.00           C  \\nHETATM 2005  C3  EPE A 202       7.454 -23.356   3.658  1.00 15.32           C  \\nHETATM 2006  N4  EPE A 202       7.013 -23.457   5.038  1.00 12.41           N  \\nHETATM 2007  C5  EPE A 202       7.609 -24.590   5.725  1.00 13.56           C  \\nHETATM 2008  C6  EPE A 202       9.132 -24.596   5.607  1.00 16.00           C  \\nHETATM 2009  C7  EPE A 202       5.566 -23.574   5.077  1.00 13.46           C  \\nHETATM 2010  C8  EPE A 202       5.085 -23.461   6.522  1.00 12.57           C  \\nHETATM 2011  O8  EPE A 202       4.955 -24.743   7.073  1.00 11.65           O  \\nHETATM 2012  C9  EPE A 202      11.019 -24.376   4.188  1.00 21.82           C  \\nHETATM 2013  C10 EPE A 202      11.650 -25.721   4.544  1.00 24.92           C  \\nHETATM 2014  S   EPE A 202      13.358 -25.712   4.081  1.00 25.85           S  \\nHETATM 2015  O1S EPE A 202      13.889 -24.426   4.490  1.00 17.76           O  \\nHETATM 2016  O2S EPE A 202      13.368 -25.910   2.644  1.00 27.50           O  \\nHETATM 2017  O3S EPE A 202      13.976 -26.834   4.760  1.00 24.46           O  \\nHETATM 2036  O   HOH A 302       7.221 -23.931   9.837  1.00 24.09           O  \\nHETATM 2040  O   HOH A 306      12.909 -28.411   6.438  1.00 27.61           O  \\nHETATM 2045  O   HOH A 311       9.445 -21.645  -0.920  1.00 26.36           O  \\nHETATM 2046  O   HOH A 312       8.452 -21.617   8.923  1.00 14.40           O  \\nHETATM 2051  O   HOH A 317       4.712 -25.569   2.082  0.82 18.89           O  \\nHETATM 2056  O   HOH A 322      13.459 -23.779   0.927  1.00 24.42           O  \\nHETATM 2057  O   HOH A 323      11.061 -22.066   7.972  1.00 31.60           O  \\nHETATM 2100  O   HOH A 366       8.842 -27.100   3.152  1.00 22.48           O  \\nHETATM 2146  O   HOH A 412       5.695 -23.268   0.698  0.60 23.06           O  \\nHETATM 2151  O   HOH A 417       9.584 -29.453   4.561  1.00 37.66           O  \\nHETATM 2154  O   HOH A 420       6.683 -27.247   1.844  1.00 40.15           O  \\nHETATM 2157  O   HOH A 423      10.454 -29.005   7.373  1.00 37.76           O  \\nCONECT   98 1961                                                                \\nCONECT  469 1796                                                                \\nCONECT 1007 1235                                                                \\nCONECT 1177 1423                                                                \\nCONECT 1235 1007                                                                \\nCONECT 1423 1177                                                                \\nCONECT 1796  469                                                                \\nCONECT 1961   98                                                                \\nCONECT 1991 1992 1995 1996 1997                                                 \\nCONECT 1992 1991 1993 1994 1998                                                 \\nCONECT 1993 1992 1999 2000 2001                                                 \\nCONECT 1994 1992 2002                                                           \\nCONECT 1995 1991                                                                \\nCONECT 1996 1991                                                                \\nCONECT 1997 1991                                                                \\nCONECT 1998 1992                                                                \\nCONECT 1999 1993                                                                \\nCONECT 2000 1993                                                                \\nCONECT 2001 1993                                                                \\nCONECT 2002 1994                                                                \\nCONECT 2003 2004 2008 2012                                                      \\nCONECT 2004 2003 2005 2018 2019                                                 \\nCONECT 2005 2004 2006 2020 2021                                                 \\nCONECT 2006 2005 2007 2009                                                      \\nCONECT 2007 2006 2008 2022 2023                                                 \\nCONECT 2008 2003 2007 2024 2025                                                 \\nCONECT 2009 2006 2010 2026 2027                                                 \\nCONECT 2010 2009 2011 2028 2029                                                 \\nCONECT 2011 2010 2030                                                           \\nCONECT 2012 2003 2013 2031 2032                                                 \\nCONECT 2013 2012 2014 2033 2034                                                 \\nCONECT 2014 2013 2015 2016 2017                                                 \\nCONECT 2015 2014                                                                \\nCONECT 2016 2014                                                                \\nCONECT 2017 2014                                                                \\nCONECT 2018 2004                                                                \\nCONECT 2019 2004                                                                \\nCONECT 2020 2005                                                                \\nCONECT 2021 2005                                                                \\nCONECT 2022 2007                                                                \\nCONECT 2023 2007                                                                \\nCONECT 2024 2008                                                                \\nCONECT 2025 2008                                                                \\nCONECT 2026 2009                                                                \\nCONECT 2027 2009                                                                \\nCONECT 2028 2010                                                                \\nCONECT 2029 2010                                                                \\nCONECT 2030 2011                                                                \\nCONECT 2031 2012                                                                \\nCONECT 2032 2012                                                                \\nCONECT 2033 2013                                                                \\nCONECT 2034 2013                                                                \\n\",\"pdb\");\n\tviewer_16753425504850626.setStyle({\"cartoon\": {\"color\": \"spectrum\"}});\n\tviewer_16753425504850626.zoomTo();\nviewer_16753425504850626.render();\n});\n</script>",
            "text/html": [
              "<div id=\"3dmolviewer_16753425504850626\"  style=\"position: relative; width: 640px; height: 480px\">\n",
              "        <p id=\"3dmolwarning_16753425504850626\" style=\"background-color:#ffcccc;color:black\">You appear to be running in JupyterLab (or JavaScript failed to load for some other reason).  You need to install the 3dmol extension: <br>\n",
              "        <tt>jupyter labextension install jupyterlab_3dmol</tt></p>\n",
              "        </div>\n",
              "<script>\n",
              "\n",
              "var loadScriptAsync = function(uri){\n",
              "  return new Promise((resolve, reject) => {\n",
              "    //this is to ignore the existence of requirejs amd\n",
              "    var savedexports, savedmodule;\n",
              "    if (typeof exports !== 'undefined') savedexports = exports;\n",
              "    else exports = {}\n",
              "    if (typeof module !== 'undefined') savedmodule = module;\n",
              "    else module = {}\n",
              "\n",
              "    var tag = document.createElement('script');\n",
              "    tag.src = uri;\n",
              "    tag.async = true;\n",
              "    tag.onload = () => {\n",
              "        exports = savedexports;\n",
              "        module = savedmodule;\n",
              "        resolve();\n",
              "    };\n",
              "  var firstScriptTag = document.getElementsByTagName('script')[0];\n",
              "  firstScriptTag.parentNode.insertBefore(tag, firstScriptTag);\n",
              "});\n",
              "};\n",
              "\n",
              "if(typeof $3Dmolpromise === 'undefined') {\n",
              "$3Dmolpromise = null;\n",
              "  $3Dmolpromise = loadScriptAsync('https://3dmol.org/build/3Dmol.js');\n",
              "}\n",
              "\n",
              "var viewer_16753425504850626 = null;\n",
              "var warn = document.getElementById(\"3dmolwarning_16753425504850626\");\n",
              "if(warn) {\n",
              "    warn.parentNode.removeChild(warn);\n",
              "}\n",
              "$3Dmolpromise.then(function() {\n",
              "viewer_16753425504850626 = $3Dmol.createViewer(document.getElementById(\"3dmolviewer_16753425504850626\"),{backgroundColor:\"white\"});\n",
              "viewer_16753425504850626.zoomTo();\n",
              "\tviewer_16753425504850626.addModel(\"ATOM    536  N   GLU A  35       3.509 -23.445  13.991  1.00  9.30           N  \\nATOM    537  CA  GLU A  35       4.165 -22.634  12.974  1.00  9.85           C  \\nATOM    538  C   GLU A  35       4.820 -21.397  13.585  1.00 10.26           C  \\nATOM    539  O   GLU A  35       5.938 -21.036  13.205  1.00 11.20           O  \\nATOM    540  CB  GLU A  35       3.158 -22.223  11.898  1.00  9.92           C  \\nATOM    541  CG  GLU A  35       2.716 -23.379  11.001  1.00 10.69           C  \\nATOM    542  CD  GLU A  35       3.829 -23.873  10.047  1.00 11.63           C  \\nATOM    543  OE1 GLU A  35       4.919 -23.249  10.013  1.00 13.70           O  \\nATOM    544  OE2 GLU A  35       3.587 -24.878   9.337  1.00 12.43           O  \\nATOM    703  N   ASN A  46      14.141 -19.659   4.819  1.00 11.88           N  \\nATOM    704  CA  ASN A  46      14.180 -20.997   4.263  1.00 13.31           C  \\nATOM    705  C   ASN A  46      15.418 -21.200   3.403  1.00 15.00           C  \\nATOM    706  O   ASN A  46      16.015 -20.248   2.901  1.00 15.99           O  \\nATOM    707  CB  ASN A  46      12.931 -21.205   3.418  1.00 13.20           C  \\nATOM    708  CG  ASN A  46      11.663 -20.958   4.216  1.00 13.39           C  \\nATOM    709  OD1 ASN A  46      11.527 -21.459   5.326  1.00 14.63           O  \\nATOM    710  ND2 ASN A  46      10.747 -20.167   3.672  1.00 13.98           N  \\nATOM    717  N   THR A  47      15.780 -22.477   3.230  1.00 18.07           N  \\nATOM    718  CA  THR A  47      16.984 -22.824   2.481  1.00 20.22           C  \\nATOM    719  C   THR A  47      16.939 -22.286   1.057  1.00 20.51           C  \\nATOM    720  O   THR A  47      17.987 -21.918   0.508  1.00 21.82           O  \\nATOM    721  CB  THR A  47      17.168 -24.344   2.498  1.00 22.43           C  \\nATOM    722  OG1 THR A  47      17.190 -24.808   3.858  1.00 24.47           O  \\nATOM    723  CG2 THR A  47      18.444 -24.745   1.799  1.00 23.91           C  \\nATOM    731  N   ASP A  48      15.750 -22.225   0.445  1.00 20.33           N  \\nATOM    732  CA  ASP A  48      15.627 -21.755  -0.930  1.00 21.06           C  \\nATOM    733  C   ASP A  48      15.743 -20.240  -1.075  1.00 20.49           C  \\nATOM    734  O   ASP A  48      15.702 -19.744  -2.207  1.00 22.97           O  \\nATOM    735  CB  ASP A  48      14.342 -22.280  -1.591  1.00 22.14           C  \\nATOM    736  CG  ASP A  48      13.068 -21.716  -0.974  1.00 21.27           C  \\nATOM    737  OD1 ASP A  48      13.139 -20.822  -0.096  1.00 18.87           O  \\nATOM    738  OD2 ASP A  48      11.983 -22.179  -1.391  1.00 23.68           O  \\nATOM    775  N   ASP A  52       9.305 -17.374   5.585  1.00  8.84           N  \\nATOM    776  CA  ASP A  52       7.939 -17.581   6.055  1.00  9.20           C  \\nATOM    777  C   ASP A  52       7.588 -16.484   7.061  1.00  9.15           C  \\nATOM    778  O   ASP A  52       8.396 -16.161   7.945  1.00  9.73           O  \\nATOM    779  CB  ASP A  52       7.810 -18.933   6.772  1.00  9.96           C  \\nATOM    780  CG  ASP A  52       7.813 -20.151   5.840  1.00 10.40           C  \\nATOM    781  OD1 ASP A  52       7.841 -20.011   4.607  1.00 11.22           O  \\nATOM    782  OD2 ASP A  52       7.739 -21.286   6.384  1.00 11.64           O  \\nATOM    854  N   GLN A  57       2.920 -18.468   9.009  1.00 10.49           N  \\nATOM    855  CA  GLN A  57       4.166 -18.799   8.311  1.00  9.73           C  \\nATOM    856  C   GLN A  57       3.957 -18.943   6.803  1.00 10.20           C  \\nATOM    857  O   GLN A  57       4.302 -19.948   6.177  1.00 10.73           O  \\nATOM    858  CB  GLN A  57       4.840 -20.016   8.934  1.00 10.07           C  \\nATOM    859  CG  GLN A  57       5.360 -19.740  10.325  1.00 10.21           C  \\nATOM    860  CD  GLN A  57       6.541 -18.790  10.311  1.00  9.91           C  \\nATOM    861  OE1 GLN A  57       7.671 -19.204  10.041  1.00 10.74           O  \\nATOM    862  NE2 GLN A  57       6.296 -17.510  10.566  1.00 10.17           N  \\nATOM    890  N   ASN A  59       4.643 -18.099   2.933  0.67 10.52           N  \\nATOM    892  CA  ASN A  59       5.922 -18.141   2.223  0.67 10.86           C  \\nATOM    894  C   ASN A  59       6.024 -17.092   1.112  0.67 10.56           C  \\nATOM    896  O   ASN A  59       5.095 -16.908   0.315  0.67 11.39           O  \\nATOM    898  CB  ASN A  59       6.094 -19.552   1.638  0.67 10.94           C  \\nATOM    900  CG  ASN A  59       7.454 -19.770   1.050  0.67 11.45           C  \\nATOM    902  OD1 ASN A  59       7.636 -19.671  -0.159  0.67 13.28           O  \\nATOM    904  ND2 ASN A  59       8.430 -20.038   1.899  0.67 12.35           N  \\nATOM   1621  N   ALA A 107       0.078 -27.906   3.088  1.00 10.43           N  \\nATOM   1622  CA  ALA A 107       0.996 -26.805   2.815  1.00 11.88           C  \\nATOM   1623  C   ALA A 107       1.707 -26.317   4.072  1.00 10.44           C  \\nATOM   1624  O   ALA A 107       2.797 -25.734   3.980  1.00 12.20           O  \\nATOM   1625  CB  ALA A 107       0.224 -25.649   2.178  1.00 14.24           C  \\nATOM   1631  N   TRP A 108       1.099 -26.501   5.239  1.00  9.62           N  \\nATOM   1632  CA  TRP A 108       1.709 -26.138   6.514  1.00  9.07           C  \\nATOM   1633  C   TRP A 108       2.434 -27.368   7.047  1.00  9.20           C  \\nATOM   1634  O   TRP A 108       1.804 -28.318   7.526  1.00  9.27           O  \\nATOM   1635  CB  TRP A 108       0.656 -25.633   7.499  1.00  9.74           C  \\nATOM   1636  CG  TRP A 108       0.167 -24.256   7.165  1.00  9.38           C  \\nATOM   1637  CD1 TRP A 108       0.757 -23.089   7.538  1.00 10.32           C  \\nATOM   1638  CD2 TRP A 108      -0.970 -23.885   6.367  1.00  9.79           C  \\nATOM   1639  NE1 TRP A 108       0.064 -22.018   7.034  1.00 10.90           N  \\nATOM   1640  CE2 TRP A 108      -0.995 -22.479   6.302  1.00 10.14           C  \\nATOM   1641  CE3 TRP A 108      -1.959 -24.603   5.699  1.00 10.74           C  \\nATOM   1642  CZ2 TRP A 108      -1.978 -21.782   5.607  1.00 10.24           C  \\nATOM   1643  CZ3 TRP A 108      -2.927 -23.915   5.012  1.00 10.91           C  \\nATOM   1644  CH2 TRP A 108      -2.939 -22.519   4.970  1.00 10.40           C  \\nATOM   1655  N   VAL A 109       3.760 -27.354   6.955  1.00  9.24           N  \\nATOM   1656  CA  VAL A 109       4.556 -28.510   7.346  1.00 10.01           C  \\nATOM   1657  C   VAL A 109       4.361 -28.838   8.816  1.00  9.33           C  \\nATOM   1658  O   VAL A 109       4.302 -30.014   9.188  1.00 10.26           O  \\nATOM   1659  CB  VAL A 109       6.035 -28.277   6.990  1.00 12.12           C  \\nATOM   1660  CG1 VAL A 109       6.915 -29.394   7.520  1.00 14.62           C  \\nATOM   1661  CG2 VAL A 109       6.177 -28.123   5.477  1.00 14.32           C  \\nATOM   1671  N   ALA A 110       4.273 -27.823   9.677  1.00  9.72           N  \\nATOM   1672  CA  ALA A 110       4.088 -28.123  11.091  1.00 10.71           C  \\nATOM   1673  C   ALA A 110       2.720 -28.743  11.334  1.00 10.35           C  \\nATOM   1674  O   ALA A 110       2.567 -29.600  12.209  1.00 10.93           O  \\nATOM   1675  CB  ALA A 110       4.286 -26.875  11.943  1.00 12.29           C  \\nHETATM 1991  C1  IPA A 201       1.759 -21.874   4.408  0.85 16.58           C  \\nHETATM 1992  C2  IPA A 201       2.920 -21.983   3.427  0.85 15.79           C  \\nHETATM 1993  C3  IPA A 201       2.420 -22.012   1.987  0.85 16.11           C  \\nHETATM 1994  O2  IPA A 201       3.805 -20.872   3.605  0.85 11.25           O  \\nHETATM 2003  N1  EPE A 202       9.573 -24.494   4.227  1.00 17.78           N  \\nHETATM 2004  C2  EPE A 202       8.976 -23.362   3.540  1.00 17.00           C  \\nHETATM 2005  C3  EPE A 202       7.454 -23.356   3.658  1.00 15.32           C  \\nHETATM 2006  N4  EPE A 202       7.013 -23.457   5.038  1.00 12.41           N  \\nHETATM 2007  C5  EPE A 202       7.609 -24.590   5.725  1.00 13.56           C  \\nHETATM 2008  C6  EPE A 202       9.132 -24.596   5.607  1.00 16.00           C  \\nHETATM 2009  C7  EPE A 202       5.566 -23.574   5.077  1.00 13.46           C  \\nHETATM 2010  C8  EPE A 202       5.085 -23.461   6.522  1.00 12.57           C  \\nHETATM 2011  O8  EPE A 202       4.955 -24.743   7.073  1.00 11.65           O  \\nHETATM 2012  C9  EPE A 202      11.019 -24.376   4.188  1.00 21.82           C  \\nHETATM 2013  C10 EPE A 202      11.650 -25.721   4.544  1.00 24.92           C  \\nHETATM 2014  S   EPE A 202      13.358 -25.712   4.081  1.00 25.85           S  \\nHETATM 2015  O1S EPE A 202      13.889 -24.426   4.490  1.00 17.76           O  \\nHETATM 2016  O2S EPE A 202      13.368 -25.910   2.644  1.00 27.50           O  \\nHETATM 2017  O3S EPE A 202      13.976 -26.834   4.760  1.00 24.46           O  \\nHETATM 2036  O   HOH A 302       7.221 -23.931   9.837  1.00 24.09           O  \\nHETATM 2040  O   HOH A 306      12.909 -28.411   6.438  1.00 27.61           O  \\nHETATM 2045  O   HOH A 311       9.445 -21.645  -0.920  1.00 26.36           O  \\nHETATM 2046  O   HOH A 312       8.452 -21.617   8.923  1.00 14.40           O  \\nHETATM 2051  O   HOH A 317       4.712 -25.569   2.082  0.82 18.89           O  \\nHETATM 2056  O   HOH A 322      13.459 -23.779   0.927  1.00 24.42           O  \\nHETATM 2057  O   HOH A 323      11.061 -22.066   7.972  1.00 31.60           O  \\nHETATM 2100  O   HOH A 366       8.842 -27.100   3.152  1.00 22.48           O  \\nHETATM 2146  O   HOH A 412       5.695 -23.268   0.698  0.60 23.06           O  \\nHETATM 2151  O   HOH A 417       9.584 -29.453   4.561  1.00 37.66           O  \\nHETATM 2154  O   HOH A 420       6.683 -27.247   1.844  1.00 40.15           O  \\nHETATM 2157  O   HOH A 423      10.454 -29.005   7.373  1.00 37.76           O  \\nCONECT   98 1961                                                                \\nCONECT  469 1796                                                                \\nCONECT 1007 1235                                                                \\nCONECT 1177 1423                                                                \\nCONECT 1235 1007                                                                \\nCONECT 1423 1177                                                                \\nCONECT 1796  469                                                                \\nCONECT 1961   98                                                                \\nCONECT 1991 1992 1995 1996 1997                                                 \\nCONECT 1992 1991 1993 1994 1998                                                 \\nCONECT 1993 1992 1999 2000 2001                                                 \\nCONECT 1994 1992 2002                                                           \\nCONECT 1995 1991                                                                \\nCONECT 1996 1991                                                                \\nCONECT 1997 1991                                                                \\nCONECT 1998 1992                                                                \\nCONECT 1999 1993                                                                \\nCONECT 2000 1993                                                                \\nCONECT 2001 1993                                                                \\nCONECT 2002 1994                                                                \\nCONECT 2003 2004 2008 2012                                                      \\nCONECT 2004 2003 2005 2018 2019                                                 \\nCONECT 2005 2004 2006 2020 2021                                                 \\nCONECT 2006 2005 2007 2009                                                      \\nCONECT 2007 2006 2008 2022 2023                                                 \\nCONECT 2008 2003 2007 2024 2025                                                 \\nCONECT 2009 2006 2010 2026 2027                                                 \\nCONECT 2010 2009 2011 2028 2029                                                 \\nCONECT 2011 2010 2030                                                           \\nCONECT 2012 2003 2013 2031 2032                                                 \\nCONECT 2013 2012 2014 2033 2034                                                 \\nCONECT 2014 2013 2015 2016 2017                                                 \\nCONECT 2015 2014                                                                \\nCONECT 2016 2014                                                                \\nCONECT 2017 2014                                                                \\nCONECT 2018 2004                                                                \\nCONECT 2019 2004                                                                \\nCONECT 2020 2005                                                                \\nCONECT 2021 2005                                                                \\nCONECT 2022 2007                                                                \\nCONECT 2023 2007                                                                \\nCONECT 2024 2008                                                                \\nCONECT 2025 2008                                                                \\nCONECT 2026 2009                                                                \\nCONECT 2027 2009                                                                \\nCONECT 2028 2010                                                                \\nCONECT 2029 2010                                                                \\nCONECT 2030 2011                                                                \\nCONECT 2031 2012                                                                \\nCONECT 2032 2012                                                                \\nCONECT 2033 2013                                                                \\nCONECT 2034 2013                                                                \\n\",\"pdb\");\n",
              "\tviewer_16753425504850626.setStyle({\"cartoon\": {\"color\": \"spectrum\"}});\n",
              "\tviewer_16753425504850626.zoomTo();\n",
              "viewer_16753425504850626.render();\n",
              "});\n",
              "</script>"
            ]
          },
          "metadata": {}
        }
      ]
    }
  ]
}