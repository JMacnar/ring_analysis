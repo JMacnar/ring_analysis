{
  "nbformat": 4,
  "nbformat_minor": 0,
  "metadata": {
    "colab": {
      "provenance": [],
      "include_colab_link": true
    },
    "kernelspec": {
      "name": "python3",
      "display_name": "Python 3"
    },
    "language_info": {
      "name": "python"
    },
    "gpuClass": "standard"
  },
  "cells": [
    {
      "cell_type": "markdown",
      "metadata": {
        "id": "view-in-github",
        "colab_type": "text"
      },
      "source": [
        "<a href=\"https://colab.research.google.com/github/JMacnar/ring_analysis/blob/master/sixmembered_rings.ipynb\" target=\"_parent\"><img src=\"https://colab.research.google.com/assets/colab-badge.svg\" alt=\"Open In Colab\"/></a>"
      ]
    },
    {
      "cell_type": "markdown",
      "source": [
        "##Six-membered ring analysis of small protein ligands\n",
        "\n",
        "Easy to use analysis of six-membered ring in ligands present in prtoein complexes. For more details, checkout the [Ring analysis GitHub](https://github.com/jmacnar/ring_analysis.git) and read our manuscript:\n",
        "\n",
        "[Macnar, J. M., Brzezinski, D., Chruszcz, M., & Gront, D. (2022). Analysis of protein structures containing HEPES and MES molecules. Protein Science, 31(9), e4415.](https://doi.org/10.1002/pro.4415) "
      ],
      "metadata": {
        "id": "vdIHK5oXeo3C"
      }
    },
    {
      "cell_type": "code",
      "source": [
        "#@title Install dependencies\n",
        "%%bash -s \n",
        "set -e\n",
        "\n",
        "#setup py3Dmol\n",
        "if [ ! -f Py3Dmol_READY ]; then\n",
        "  echo \"Installing Py3Dmol ...\"\n",
        "  pip install py3Dmol 2>&1 1>/dev/null\n",
        "  touch Py3Dmol_READY\n",
        "fi\n",
        "echo \"Py3Dmol installed\"\n",
        "\n",
        "# setup conda\n",
        "if [ ! -f CONDA_READY ]; then\n",
        "  echo \"Installing conda ...\"\n",
        "  wget https://repo.anaconda.com/miniconda/Miniconda3-py37_4.12.0-Linux-x86_64.sh &>/dev/null\n",
        "  chmod +x Miniconda3-py37_4.12.0-Linux-x86_64.sh\n",
        "  bash ./Miniconda3-py37_4.12.0-Linux-x86_64.sh -b -f -p /usr/local/ 2>&1 1>/dev/null\n",
        "  conda install -y -q -c conda-forge py3dmol numpy 2>&1 1>/dev/null\n",
        "  touch CONDA_READY\n",
        "fi\n",
        "echo \"Conda installed\"\n",
        "\n",
        "#setup git\n",
        "if [ ! -f GIT_READY ]; then\n",
        "  git clone https://github.com/JMacnar/ring_analysis.git 2>&1 1>/dev/null\n",
        "  cp ring_analysis/1ewk.pdb .\n",
        "  touch GIT_READY\n",
        "fi\n",
        "echo \"ring_analysis cloned\"\n",
        "\n"
      ],
      "metadata": {
        "id": "KrpAP2h3OfOJ"
      },
      "execution_count": null,
      "outputs": []
    },
    {
      "cell_type": "code",
      "source": [
        "#@title Provide the three-letter PDB code of ligand\n",
        "#@markdown If you would like to use the demo input left the \"EPE\" as the ligand's 3-letter code.\n",
        "ligand_code = \"EPE\" #@param {type:\"string\"}\n",
        "#@markdown The distance around a ligand used to visualize the structure of the ligand and its surroundings also can be provided\n",
        "distance = 5 #@param {type:\"integer\"}"
      ],
      "metadata": {
        "id": "bv_v0B2p2SCP"
      },
      "execution_count": null,
      "outputs": []
    },
    {
      "cell_type": "code",
      "source": [
        "#@title Upload PDB file\n",
        "#@markdown If you would like to use the demo input just click \"Cancel upload\" and 1ewk will be used.\n",
        "\n",
        "#@markdown Rember, \"CONNECT\" record must be present in yout pdb file to perform the analysis.\n",
        "\n",
        "from google.colab import files\n",
        "try:\n",
        "  uploaded = files.upload()\n",
        "  pdb_name = next(iter(uploaded))\n",
        "except:\n",
        "   pdb_name = \"1ewk.pdb\"\n",
        "   print(\"No user's input provided, using 1ewk as an input.\")\n",
        "\n"
      ],
      "metadata": {
        "id": "wrq-j5o-ZGxm"
      },
      "execution_count": null,
      "outputs": []
    },
    {
      "cell_type": "code",
      "source": [
        "#@title Run ring analysis\n",
        "from IPython.utils import io\n",
        "import pandas as pd\n",
        "from google.colab import data_table\n",
        "data_table.enable_dataframe_formatter()\n",
        "\n",
        "with io.capture_output() as captured:\n",
        "    !python ring_analysis/sixmembered_ring.py {pdb_name} {ligand_code} -d {distance}\n",
        "\n",
        "data = captured.stdout\n",
        "df = pd.DataFrame([x.split(';') for x in data.split('\\n')[1:]], columns=[x for x in data.split('\\n')[0].split(';')])\n",
        "df= df.dropna()\n",
        "df"
      ],
      "metadata": {
        "id": "w5ytbd4Sj4GG"
      },
      "execution_count": null,
      "outputs": []
    },
    {
      "cell_type": "code",
      "source": [
        "#@title Display 3D structure {run: \"auto\"}\n",
        "import glob\n",
        "import py3Dmol\n",
        "color_protein = \"B-factor\" #@param [\"B-factor\", \"rainbow\"]\n",
        "color_ligand = \"white\" #@param [\"B-factor\", \"white\"]\n",
        "show_sidechains = False #@param {type:\"boolean\"}\n",
        "show_mainchains = False #@param {type:\"boolean\"}\n",
        "show_protein_surface = \"No\" #@param [\"No\", \"White\", \"B-factor\"]\n",
        "show_ligand_surface = False #@param {type:\"boolean\"}\n",
        "#@markdown Ligand surface is colored by B-factor\n",
        "pdb_file = glob.glob(ligand_code+'-*-*-*.pdb')\n",
        "\n",
        "protein = {'and':[{'resn':ligand_code,'invert':True}]}\n",
        "\n",
        "def show_pdb(pdb_file1, show_sidechains=False, show_mainchains=False, show_prtoein_surface='No',\n",
        "             show_ligand_surface=False, color_protein='rainbow', color_ligand='white'):\n",
        "  view = py3Dmol.view(js='https://3dmol.org/build/3Dmol.js',)\n",
        "  view.addModel(open(pdb_file[0],'r').read(),'pdb')\n",
        "  \n",
        "  if color_protein == \"rainbow\":\n",
        "    view.setStyle({'cartoon': {'color':'spectrum'}})\n",
        "  elif color_protein == \"B-factor\":\n",
        "    view.setStyle({'cartoon': {'colorscheme':{'prop':'b','gradient':'sinebow','min':0,'max':70}}})\n",
        "  view.addStyle({'line': {}})\n",
        "  if show_sidechains:\n",
        "    BB = ['C','O','N']\n",
        "    view.addStyle({'and':[{'resn':[\"GLY\",\"PRO\"],'invert':True},{'atom':BB,'invert':True}]},\n",
        "                        {'stick':{'colorscheme':f\"TealCarbon\",'radius':0.3}})\n",
        "    view.addStyle({'and':[{'resn':\"GLY\"},{'atom':'CA'}]},\n",
        "                        {'sphere':{'colorscheme':f\"TealCarbon\",'radius':0.3}})\n",
        "    view.addStyle({'and':[{'resn':\"PRO\"},{'atom':['C','O'],'invert':True}]},\n",
        "                        {'stick':{'colorscheme':f\"TealCarbon\",'radius':0.3}})  \n",
        "  if show_mainchains:\n",
        "    BB = ['C','O','N','CA']\n",
        "    view.addStyle({'atom':BB},{'stick':{'colorscheme':f\"TealCarbon\",'radius':0.3}})\n",
        "  if show_protein_surface == 'B-factor':\n",
        "    view.addSurface(py3Dmol.VDW,{'opacity':0.7,'colorscheme':{'prop':'b','gradient':'sinebow','min':0,'max':70}},protein)\n",
        "  elif show_protein_surface == 'White':\n",
        "    view.addSurface(py3Dmol.VDW,{'opacity':0.7,'color':'white'}, protein)\n",
        "  \n",
        "  if color_ligand == \"B-factor\":\n",
        "    view.setStyle({'resn':ligand_code},{'stick':{'colorscheme':{'prop':'b','gradient':'sinebow','min':0,'max':70}}})\n",
        "  elif color_ligand == \"white\":\n",
        "        view.setStyle({'resn':ligand_code},{'stick':{}})\n",
        "\n",
        "  if show_ligand_surface:\n",
        "    view.addSurface(py3Dmol.VDW,{'opacity':0.7,'colorscheme':{'prop':'b','gradient':'sinebow','min':0,'max':70}},{'resn':ligand_code})\n",
        "   \n",
        "  \n",
        "  view.zoomTo()\n",
        "  return view\n",
        "\n",
        "for pdb in pdb_file:\n",
        "  print(pdb)\n",
        "  show_pdb(pdb, show_sidechains, show_mainchains, show_protein_surface, show_ligand_surface, color_protein, color_ligand).show()"
      ],
      "metadata": {
        "id": "dw7X-vMtm74p"
      },
      "execution_count": null,
      "outputs": []
    },
    {
      "cell_type": "markdown",
      "source": [
        "*A colab by Joanna Macnar and Ajajasja Ljubetič*\n",
        "\n"
      ],
      "metadata": {
        "id": "uIgsUbeygoqY"
      }
    }
  ]
}